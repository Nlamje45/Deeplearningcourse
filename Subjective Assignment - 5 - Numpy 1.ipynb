{
 "cells": [
  {
   "cell_type": "markdown",
   "metadata": {},
   "source": [
    "# Assignment"
   ]
  },
  {
   "cell_type": "markdown",
   "metadata": {},
   "source": [
    "Q1. Write the NumPy program to create a 2d array with 6 on the border\n",
    "and 0 inside?\n",
    "\n",
    "    Expected OutputOriginal array-\n",
    "    [ [6 6 6 6 6]\n",
    "     [ 6 6 6 6 6]\n",
    "     [ 6 6 6 6 6 ]\n",
    "    [ 6 6 6 6 6 ]\n",
    "    [ 6 6 6 6 ] ].\n",
    "    6 on the border and 0 inside in the array-\n",
    "    [[ 6 6 6 6 6]\n",
    "    [ 6 0 0 0 6]\n",
    "    [ 6 0 0 0 6]\n",
    "    [ 6 0 0 0 6]\n",
    "    [ 6 6 6 6 6]]."
   ]
  },
  {
   "cell_type": "code",
   "execution_count": 7,
   "metadata": {},
   "outputs": [
    {
     "name": "stdout",
     "output_type": "stream",
     "text": [
      "[[6 6 6 6 6]\n",
      " [6 6 6 6 6]\n",
      " [6 6 6 6 6]\n",
      " [6 6 6 6 6]\n",
      " [6 6 6 6 6]]\n",
      "[[6 6 6 6 6]\n",
      " [6 0 0 0 6]\n",
      " [6 0 0 0 6]\n",
      " [6 0 0 0 6]\n",
      " [6 6 6 6 6]]\n"
     ]
    }
   ],
   "source": [
    "import numpy as np\n",
    "m=np.array([[6,6,6,6,6],[6,6,6,6,6],[6,6,6,6,6],[6,6,6,6,6],[6,6,6,6,6]])\n",
    "print(m)\n",
    "m[1:-1,1:-1]=0\n",
    "print(m)"
   ]
  },
  {
   "cell_type": "markdown",
   "metadata": {},
   "source": [
    "Q2. Write the NumPy program to create a 8x8 matrix and fill it with the\n",
    "checkerboard pattern?\n",
    "    \n",
    "    Checkerboard pattern-\n",
    "    [[3 9 3 9 3 9 3 9]\n",
    "    [9 3 9 3 9 3 9 3]\n",
    "    [3 9 3 9 3 9 3 9]\n",
    "    [9 3 9 3 9 3 9 3]\n",
    "    [3 9 3 9 3 9 3 9]\n",
    "    [9 3 9 3 9 3 9 3]\n",
    "    [3 9 3 9 3 9 3 9]\n",
    "    [9 3 9 3 9 3 9 3]]."
   ]
  },
  {
   "cell_type": "code",
   "execution_count": 40,
   "metadata": {},
   "outputs": [
    {
     "data": {
      "text/plain": [
       "array([[6, 3, 6, 3, 6, 3, 6, 3],\n",
       "       [3, 6, 3, 6, 3, 6, 3, 6],\n",
       "       [6, 3, 6, 3, 6, 3, 6, 3],\n",
       "       [3, 6, 3, 6, 3, 6, 3, 6],\n",
       "       [6, 3, 6, 3, 6, 3, 6, 3],\n",
       "       [3, 6, 3, 6, 3, 6, 3, 6],\n",
       "       [6, 3, 6, 3, 6, 3, 6, 3],\n",
       "       [3, 6, 3, 6, 3, 6, 3, 6]])"
      ]
     },
     "execution_count": 40,
     "metadata": {},
     "output_type": "execute_result"
    }
   ],
   "source": [
    "x=np.ones((8,8),dtype=int)\n",
    "x[1::2,::2]=3\n",
    "x[::2,1::2]=3\n",
    "x[0::2,::2]=6\n",
    "for i in range(0,8):\n",
    "    for j in range(0,8):\n",
    "        if x[i,j]==1:\n",
    "            x[i,j]=6\n",
    "x"
   ]
  },
  {
   "cell_type": "markdown",
   "metadata": {},
   "source": [
    "Q3. Write the NumPy program to create an empty and a full array.\n",
    " \n",
    "     Expected Output-\n",
    "    [[4.45057637e-308 1.78021527e-306 8.45549797e-307 1.37962049e-306]\n",
    "    [1.11260619e-306 1.78010255e-306 9.79054228e-307 4.45057637e-308]\n",
    "    [8.45596650e-307 9.34602321e-307 4.94065646e-322 0.00000000e+000]]\n",
    "    [[6 6 6]\n",
    "    [6 6 6]\n",
    "    [6 6 6]]\n"
   ]
  },
  {
   "cell_type": "code",
   "execution_count": null,
   "metadata": {},
   "outputs": [],
   "source": [
    "import numpy as np\n",
    "x = np.ones((3,3))\n",
    "print(\"Checkerboard pattern:\")\n",
    "x = np.zeros((8,8),dtype=int)\n",
    "x[1::2,::2] = 1\n",
    "x[::2,1::2] = 1\n",
    "print(x)"
   ]
  },
  {
   "cell_type": "markdown",
   "metadata": {},
   "source": [
    "Q4. Write the NumPy program to convert the values of Centigrade\n",
    "degrees into the Fahrenheit degrees and the centigrade values are\n",
    "stored in the NumPy array.\n",
    "    \n",
    "    Sample Array -[0, 12, 45.21 ,34, 99.91]\n",
    "    Expected OutputValues in Fahrenheit degrees-\n",
    "    [ 0. 12. 45.21 34. 99.91]\n",
    "    Values in Centigrade degrees-\n",
    "    [-17.77777778 -11.11111111 7.33888889 1.11111111 37.72777778]"
   ]
  },
  {
   "cell_type": "code",
   "execution_count": 50,
   "metadata": {},
   "outputs": [
    {
     "data": {
      "text/plain": [
       "array([ 32.   ,  53.6  , 113.378,  93.2  , 211.838])"
      ]
     },
     "execution_count": 50,
     "metadata": {},
     "output_type": "execute_result"
    }
   ],
   "source": [
    "s=np.array([0,12,45.21,34,99.91])\n",
    "#f=np.ones(5)\n",
    "#for i in s:\n",
    "#    f(i)=(9/5*s(i))+32\n",
    "s=(9/5*s)+32\n",
    "s\n",
    "    "
   ]
  },
  {
   "cell_type": "markdown",
   "metadata": {},
   "source": [
    "Q5. Write the NumPy program to find the real and imaginary parts of an\n",
    "array of complex numbers?\n",
    "\n",
    "    Expected OutputOriginal array [ 1.00000000+0.j 0.70710678+0.70710678j]\n",
    "    Real part of the array-\n",
    "    [ 1. 0.70710678]\n",
    "    Imaginary part of the array-\n",
    "    [ 0. 0.70710678]"
   ]
  },
  {
   "cell_type": "code",
   "execution_count": 51,
   "metadata": {},
   "outputs": [
    {
     "name": "stdout",
     "output_type": "stream",
     "text": [
      "Original array:x  [1.+0.j]\n",
      "Original array:y  [0.70710678+0.70710678j]\n",
      "Real part of the array:\n",
      "[1.]\n",
      "[0.70710678]\n",
      "Imaginary part of the array:\n",
      "[0.]\n",
      "[0.70710678]\n"
     ]
    }
   ],
   "source": [
    "x = np.sqrt([1+0j])\n",
    "y = np.sqrt([0+1j])\n",
    "print(\"Original array:x \",x)\n",
    "print(\"Original array:y \",y)\n",
    "print(\"Real part of the array:\")\n",
    "print(x.real)\n",
    "print(y.real)\n",
    "print(\"Imaginary part of the array:\")\n",
    "print(x.imag)\n",
    "print(y.imag)"
   ]
  },
  {
   "cell_type": "markdown",
   "metadata": {},
   "source": [
    "Q6. Write the NumPy program to test whether each element of a 1-D\n",
    "array is also present in the second array?\n",
    "\n",
    "    Expected OutputArray1: [ 0 10 20 40 60]\n",
    "    Array2: [0, 40]\n",
    "    Compare each element of array1 and array2\n",
    "    [ True False False True False]\n"
   ]
  },
  {
   "cell_type": "code",
   "execution_count": 52,
   "metadata": {},
   "outputs": [
    {
     "name": "stdout",
     "output_type": "stream",
     "text": [
      "[False  True False  True False]\n"
     ]
    }
   ],
   "source": [
    "a1=np.array([0,10,20,40,60])\n",
    "a2=np.array([10, 30, 40])\n",
    "c=np.in1d(a1,a2)\n",
    "print(c)"
   ]
  },
  {
   "cell_type": "markdown",
   "metadata": {},
   "source": [
    "Q7. Write the NumPy program to find common values between two\n",
    "arrays?\n",
    "    \n",
    "    Expected OutputArray1: [ 0 10 20 40 60]\n",
    "    Array2: [10, 30, 40]\n",
    "    Common values between two arrays-\n",
    "    [10 40]"
   ]
  },
  {
   "cell_type": "code",
   "execution_count": 10,
   "metadata": {},
   "outputs": [
    {
     "name": "stdout",
     "output_type": "stream",
     "text": [
      "[10 40]\n"
     ]
    }
   ],
   "source": [
    "a1=np.array([0,10,20,40,60])\n",
    "a2=np.array([10, 30, 40])\n",
    "c=np.intersect1d(a1,a2)\n",
    "print(c)"
   ]
  },
  {
   "cell_type": "markdown",
   "metadata": {},
   "source": [
    "Q8. Write the NumPy program to get the unique elements of an array?\n",
    "\n",
    "    Expected OutputOriginal array-\n",
    "    [10 10 20 20 30 30]\n",
    "    Unique elements of the above array-\n",
    "    [10 20 30]\n",
    "    P a g e 14 | 44\n",
    "    Original array-\n",
    "    [[1 1]\n",
    "    [2 3]]\n",
    "    Unique elements of the above array-\n",
    "    [1 2 3]"
   ]
  },
  {
   "cell_type": "code",
   "execution_count": 9,
   "metadata": {},
   "outputs": [
    {
     "name": "stdout",
     "output_type": "stream",
     "text": [
      "[10 20 30]\n",
      "[1 2 3]\n"
     ]
    }
   ],
   "source": [
    "import numpy as np\n",
    "a=np.array([10,10,20,20,30,30])\n",
    "#m=np.unique([10,10,20,20,30,30])\n",
    "m=np.unique(a)\n",
    "print(m)\n",
    "b=np.array([[1,1],[2,3]])\n",
    "n=np.unique(b)\n",
    "print(n)"
   ]
  },
  {
   "cell_type": "markdown",
   "metadata": {},
   "source": [
    "Q9. Write the NumPy program to find the set exclusive-or of two arrays.\n",
    "Set exclusive-or will return the sorted, unique values that are in\n",
    "only one (not both) of the input arrays?\n",
    "\n",
    "    Array1- [ 0 10 20 40 60 80]\n",
    "    Array2- [10, 30, 40, 50, 70]\n",
    "    Unique values that are in only one (not both) of the input arrays-\n",
    "    [ 0 20 30 50 60 70 80]"
   ]
  },
  {
   "cell_type": "code",
   "execution_count": 57,
   "metadata": {},
   "outputs": [
    {
     "name": "stdout",
     "output_type": "stream",
     "text": [
      "[ 0 20 30 60 70 80]\n"
     ]
    }
   ],
   "source": [
    "a1=np.array([0,10,20,40,60,80])\n",
    "a2=np.array([10, 30, 40,70])\n",
    "\n",
    "print(np.setxor1d(a1,a2))"
   ]
  },
  {
   "cell_type": "markdown",
   "metadata": {},
   "source": [
    "Q10. Write the NumPy program to test if all elements in an array\n",
    "evaluate to True ?\n",
    " \n",
    "Note: 0 evaluates to False in NumPy"
   ]
  },
  {
   "cell_type": "code",
   "execution_count": 58,
   "metadata": {},
   "outputs": [
    {
     "name": "stdout",
     "output_type": "stream",
     "text": [
      "False\n",
      "True\n",
      "False\n",
      "True\n"
     ]
    }
   ],
   "source": [
    "print(np.all([[True,False],[True,True]]))\n",
    "print(np.all([[True,True],[True,True]]))\n",
    "print(np.all([10, 20, 0, -50]))\n",
    "print(np.all([10, 20, -50]))"
   ]
  },
  {
   "cell_type": "markdown",
   "metadata": {},
   "source": [
    "Q11. Write the NumPy program to test whether any array element along\n",
    "the given axis evaluates to True?\n",
    " \n",
    "Note: 0 evaluates to False in NumPy"
   ]
  },
  {
   "cell_type": "code",
   "execution_count": 59,
   "metadata": {},
   "outputs": [
    {
     "name": "stdout",
     "output_type": "stream",
     "text": [
      "False\n",
      "True\n",
      "False\n",
      "True\n"
     ]
    }
   ],
   "source": [
    "print(np.all([[True,False],[True,True]]))\n",
    "print(np.all([[True,True],[True,True]]))\n",
    "print(np.all([10, 20, 0, -50]))\n",
    "print(np.all([10, 20, -50]))"
   ]
  },
  {
   "cell_type": "markdown",
   "metadata": {},
   "source": [
    "Q12. Write the NumPy program to construct an array by repeating?\n",
    "\n",
    "    Sample array- [1, 2, 3, 4]\n",
    "    Expected OutputOriginal array\n",
    "    [1, 2, 3, 4]\n",
    "    Repeating 2 times\n",
    "    [1 2 3 4 1 2 3 4]\n",
    "    Repeating 3 times\n",
    "    [1 2 3 4 1 2 3 4 1 2 3 4]"
   ]
  },
  {
   "cell_type": "code",
   "execution_count": 65,
   "metadata": {},
   "outputs": [
    {
     "name": "stdout",
     "output_type": "stream",
     "text": [
      "Original array\n",
      "[1, 2, 3, 4]\n",
      "Repeating 2 times\n",
      "[1 2 3 4 1 2 3 4]\n",
      "Repeating 3 times\n",
      "[1 2 3 4 1 2 3 4 1 2 3 4]\n"
     ]
    }
   ],
   "source": [
    "a = [1, 2, 3, 4]\n",
    "print(\"Original array\")\n",
    "print(a)\n",
    "print(\"Repeating 2 times\")\n",
    "x = np.tile(a, 2)\n",
    "print(x)\n",
    "print(\"Repeating 3 times\")\n",
    "x = np.tile(a, 3)\n",
    "print(x)"
   ]
  },
  {
   "cell_type": "markdown",
   "metadata": {},
   "source": [
    "Q13. Write the NumPy program to find the indices of the maximum and\n",
    "minimum values with the given axis of an array?\n",
    "\n",
    "    Original array- [1 2 3 4 5 6]\n",
    "    Maximum Values- 5\n",
    "    Minimum Values- 0"
   ]
  },
  {
   "cell_type": "code",
   "execution_count": 62,
   "metadata": {},
   "outputs": [
    {
     "name": "stdout",
     "output_type": "stream",
     "text": [
      "max= 6\n",
      "min= 1\n"
     ]
    }
   ],
   "source": [
    "o=np.array([1,2,3,4,5,6])\n",
    "print(\"max=\",np.max(o))\n",
    "print(\"min=\",np.min(o))"
   ]
  },
  {
   "cell_type": "markdown",
   "metadata": {},
   "source": [
    "Q14. Write the NumPy program compare two arrays using numpy?\n",
    "\n",
    "    Array a- [1 2]\n",
    "    Array b- [4 5]\n",
    "    a > b\n",
    "    [False False]\n",
    "    a >= b\n",
    "    [False False]\n",
    "    a < b\n",
    "    [ True True]\n",
    "    a <= b\n",
    "    [ True True]\n"
   ]
  },
  {
   "cell_type": "code",
   "execution_count": 64,
   "metadata": {},
   "outputs": [
    {
     "name": "stdout",
     "output_type": "stream",
     "text": [
      "Array a:  [1 2]\n",
      "Array b:  [4 5]\n",
      "a > b\n",
      "[False False]\n",
      "a >= b\n",
      "[False False]\n",
      "a < b\n",
      "[ True  True]\n",
      "a <= b\n",
      "[ True  True]\n"
     ]
    }
   ],
   "source": [
    "a = np.array([1, 2])\n",
    "b = np.array([4, 5])\n",
    "print(\"Array a: \",a)\n",
    "print(\"Array b: \",b)\n",
    "print(\"a > b\")\n",
    "print(np.greater(a, b))\n",
    "print(\"a >= b\")\n",
    "print(np.greater_equal(a, b))\n",
    "print(\"a < b\")\n",
    "print(np.less(a, b))\n",
    "print(\"a <= b\")\n",
    "print(np.less_equal(a, b))"
   ]
  },
  {
   "cell_type": "markdown",
   "metadata": {},
   "source": [
    "Q15. Write the NumPy program to sort an along the first, last axis of an\n",
    "array?\n",
    "\n",
    "    Sample array- [[2,5],[4,4]]\n",
    "    Expected OutputOriginal array:\n",
    "    [[4 6]\n",
    "    [2 1]]\n",
    "    Sort along the first axis:\n",
    "    [[2 1]\n",
    "    [4 6]]\n",
    "    Sort along the last axis-\n",
    "    [[1 2]\n",
    "    [4 6]]"
   ]
  },
  {
   "cell_type": "code",
   "execution_count": 63,
   "metadata": {},
   "outputs": [
    {
     "name": "stdout",
     "output_type": "stream",
     "text": [
      "Original array: \n",
      "[[4 6]\n",
      " [2 1]]\n",
      "Sort along the first axis: \n",
      "[[2 1]\n",
      " [4 6]]\n",
      "Sort along the last axis: \n",
      "[[1 2]\n",
      " [4 6]]\n"
     ]
    }
   ],
   "source": [
    "a = np.array([[4, 6],[2, 1]])\n",
    "print(\"Original array: \")\n",
    "print(a)\n",
    "print(\"Sort along the first axis: \")\n",
    "x = np.sort(a, axis=0)\n",
    "print(x)\n",
    "print(\"Sort along the last axis: \")\n",
    "y = np.sort(x, axis=1)\n",
    "print(y)"
   ]
  },
  {
   "cell_type": "markdown",
   "metadata": {},
   "source": [
    "Q16. Write the NumPy program to sort pairs of first name and last name\n",
    "return their indices (first by last name, then by first name).\n",
    "\n",
    "    first_names - ( Betsey, Shelley, Lanell, Genesis, Margery )\n",
    "    last_names - ( Battle, Brien, Plotner, Stahl, Woolum )\n",
    "    Expected Output-\n",
    "    [1 3 2 4 0]"
   ]
  },
  {
   "cell_type": "code",
   "execution_count": 66,
   "metadata": {},
   "outputs": [
    {
     "name": "stdout",
     "output_type": "stream",
     "text": [
      "[1 3 2 4 0]\n"
     ]
    }
   ],
   "source": [
    "first_names =    ('Margery', 'Betsey', 'Shelley', 'Lanell', 'Genesis')\n",
    "last_names = ('Woolum', 'Battle', 'Plotner', 'Brien', 'Stahl')\n",
    "x = np.lexsort((first_names, last_names))\n",
    "print(x)"
   ]
  },
  {
   "cell_type": "markdown",
   "metadata": {},
   "source": [
    "Q17. Write the NumPy program to get the values and indices of the\n",
    "elements that are bigger than 10 in the given array?\n",
    "\n",
    "    Original array-\n",
    "    [[ 0 10 20]\n",
    "    [20 30 40]]\n",
    "    Values bigger than 10 = [20 20 30 40]\n",
    "    Their indices are (array([0, 1, 1, 1]), array([2, 0, 1, 2]))"
   ]
  },
  {
   "cell_type": "code",
   "execution_count": 67,
   "metadata": {},
   "outputs": [
    {
     "name": "stdout",
     "output_type": "stream",
     "text": [
      "Original array: \n",
      "[[ 0 10 20]\n",
      " [20 30 40]]\n",
      "Values bigger than 10 = [20 20 30 40]\n",
      "Their indices are  (array([0, 1, 1, 1], dtype=int64), array([2, 0, 1, 2], dtype=int64))\n"
     ]
    }
   ],
   "source": [
    "x = np.array([[0, 10, 20], [20, 30, 40]])\n",
    "print(\"Original array: \")\n",
    "print(x)\n",
    "print(\"Values bigger than 10 =\", x[x>10])\n",
    "print(\"Their indices are \", np.nonzero(x > 10))"
   ]
  },
  {
   "cell_type": "markdown",
   "metadata": {},
   "source": [
    "Q18. Write the NumPy program to find the memory size of a NumPy\n",
    "array?\n",
    "\n",
    "    Expected Output128 bytes\n"
   ]
  },
  {
   "cell_type": "code",
   "execution_count": 46,
   "metadata": {},
   "outputs": [
    {
     "name": "stdout",
     "output_type": "stream",
     "text": [
      "128 bytes\n"
     ]
    }
   ],
   "source": [
    "x=np.ones((4,4))\n",
    "print(\"%d bytes\" % (x.size * x.itemsize))\n"
   ]
  },
  {
   "cell_type": "markdown",
   "metadata": {},
   "source": [
    "## Great Job!"
   ]
  }
 ],
 "metadata": {
  "kernelspec": {
   "display_name": "Python 3",
   "language": "python",
   "name": "python3"
  },
  "language_info": {
   "codemirror_mode": {
    "name": "ipython",
    "version": 3
   },
   "file_extension": ".py",
   "mimetype": "text/x-python",
   "name": "python",
   "nbconvert_exporter": "python",
   "pygments_lexer": "ipython3",
   "version": "3.6.4"
  }
 },
 "nbformat": 4,
 "nbformat_minor": 2
}
