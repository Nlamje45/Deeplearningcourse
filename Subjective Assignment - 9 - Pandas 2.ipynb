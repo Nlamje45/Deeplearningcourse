{
 "cells": [
  {
   "cell_type": "markdown",
   "metadata": {},
   "source": [
    "# Assignment"
   ]
  },
  {
   "cell_type": "markdown",
   "metadata": {},
   "source": [
    "Link for Datasets\n",
    "(https://drive.google.com/drive/folders/105ftuIwN9kqyPNEEm3E6IM7LqywjyvJa?usp=sharing)"
   ]
  },
  {
   "cell_type": "markdown",
   "metadata": {},
   "source": [
    "Q21.Write a pandas program to import three datasheets from a given\n",
    "excel data (coalpublic2013.xlsx ) in to a single dataframe.\n",
    "  \n",
    "Note: Structure of three datasheets are same."
   ]
  },
  {
   "cell_type": "code",
   "execution_count": 7,
   "metadata": {},
   "outputs": [
    {
     "name": "stdout",
     "output_type": "stream",
     "text": [
      "     Labor_Hours   MSHA ID                       Mine_Name  Production  \\\n",
      "0        22392.0  103381.0            Tacoa Highwall Miner     56004.0   \n",
      "1        28447.0  103404.0                Reid School Mine     28807.0   \n",
      "2       474784.0  100759.0  North River #1 Underground Min   1440115.0   \n",
      "3        29193.0  103246.0                      Bear Creek     87587.0   \n",
      "4        46393.0  103451.0                     Knight Mine    147499.0   \n",
      "5        47195.0  103433.0              Crane Central Mine     69339.0   \n",
      "6       144002.0  100329.0                    Concord Mine         0.0   \n",
      "7      1001809.0  100851.0                  Oak Grove Mine   2269014.0   \n",
      "8        12396.0  102901.0                Shoal Creek Mine         0.0   \n",
      "9      1237415.0  102901.0                Shoal Creek Mine   1453024.0   \n",
      "10      196963.0  103180.0             Sloan Mountain Mine    327780.0   \n",
      "11       87314.0  103182.0                        Fishtrap    175058.0   \n",
      "12       90584.0  103285.0                     Narley Mine    154861.0   \n",
      "13       61394.0  103332.0                   Powhatan Mine    140521.0   \n",
      "14        1900.0  103375.0                    Johnson Mine       580.0   \n",
      "15      107469.0  103419.0               Maxine-Pratt Mine    125824.0   \n",
      "16         220.0  103432.0                   Skelton Creek      8252.0   \n",
      "17       70926.0  103437.0         Black Warrior Mine No 1    145924.0   \n",
      "18       14828.0  102976.0   Piney Woods Preparation Plant         0.0   \n",
      "19       23193.0  102976.0   Piney Woods Preparation Plant         0.0   \n",
      "20       12621.0  103380.0                          Calera         0.0   \n",
      "21        1402.0  103380.0                          Calera         0.0   \n",
      "22      140250.0  103422.0                 Clark No 1 Mine    122727.0   \n",
      "23       30539.0  103467.0             Helena Surface Mine     59664.0   \n",
      "24     1551141.0  101247.0                       No 4 Mine   2622528.0   \n",
      "25     2464719.0  101401.0                       No 7 Mine   5405412.0   \n",
      "26      119542.0  103172.0  Searles Mine No. 2, 3, 4, 5, 6    258078.0   \n",
      "27       63745.0  103179.0             Fleetwood Mine No 1     75937.0   \n",
      "28      164388.0  103303.0                    Shannon Mine    317491.0   \n",
      "29       46381.0  103323.0                   Deerlick Mine    133452.0   \n",
      "..           ...       ...                             ...         ...   \n",
      "861          NaN       NaN                             NaN         NaN   \n",
      "862          NaN       NaN                             NaN         NaN   \n",
      "863          NaN       NaN                             NaN         NaN   \n",
      "864          NaN       NaN                             NaN         NaN   \n",
      "865          NaN       NaN                             NaN         NaN   \n",
      "866          NaN       NaN                             NaN         NaN   \n",
      "867          NaN       NaN                             NaN         NaN   \n",
      "868          NaN       NaN                             NaN         NaN   \n",
      "869          NaN       NaN                             NaN         NaN   \n",
      "870          NaN       NaN                             NaN         NaN   \n",
      "871          NaN       NaN                             NaN         NaN   \n",
      "872          NaN       NaN                             NaN         NaN   \n",
      "873          NaN       NaN                             NaN         NaN   \n",
      "874          NaN       NaN                             NaN         NaN   \n",
      "875          NaN       NaN                             NaN         NaN   \n",
      "876          NaN       NaN                             NaN         NaN   \n",
      "877          NaN       NaN                             NaN         NaN   \n",
      "878          NaN       NaN                             NaN         NaN   \n",
      "879          NaN       NaN                             NaN         NaN   \n",
      "880          NaN       NaN                             NaN         NaN   \n",
      "881          NaN       NaN                             NaN         NaN   \n",
      "882          NaN       NaN                             NaN         NaN   \n",
      "883          NaN       NaN                             NaN         NaN   \n",
      "884          NaN       NaN                             NaN         NaN   \n",
      "885          NaN       NaN                             NaN         NaN   \n",
      "886          NaN       NaN                             NaN         NaN   \n",
      "887          NaN       NaN                             NaN         NaN   \n",
      "888          NaN       NaN                             NaN         NaN   \n",
      "889          NaN       NaN                             NaN         NaN   \n",
      "890          NaN       NaN                             NaN         NaN   \n",
      "\n",
      "     Unnamed: 15    Year adult_male   age alive  alone  ...       fare  \\\n",
      "0            NaN  2013.0        NaN   NaN   NaN    NaN  ...        NaN   \n",
      "1            NaN  2013.0        NaN   NaN   NaN    NaN  ...        NaN   \n",
      "2            NaN  2013.0        NaN   NaN   NaN    NaN  ...        NaN   \n",
      "3            NaN  2013.0        NaN   NaN   NaN    NaN  ...        NaN   \n",
      "4            NaN  2013.0        NaN   NaN   NaN    NaN  ...        NaN   \n",
      "5            NaN  2013.0        NaN   NaN   NaN    NaN  ...        NaN   \n",
      "6            NaN  2013.0        NaN   NaN   NaN    NaN  ...        NaN   \n",
      "7            NaN  2013.0        NaN   NaN   NaN    NaN  ...        NaN   \n",
      "8            NaN  2013.0        NaN   NaN   NaN    NaN  ...        NaN   \n",
      "9            NaN  2013.0        NaN   NaN   NaN    NaN  ...        NaN   \n",
      "10           NaN  2013.0        NaN   NaN   NaN    NaN  ...        NaN   \n",
      "11           NaN  2013.0        NaN   NaN   NaN    NaN  ...        NaN   \n",
      "12           NaN  2013.0        NaN   NaN   NaN    NaN  ...        NaN   \n",
      "13           NaN  2013.0        NaN   NaN   NaN    NaN  ...        NaN   \n",
      "14           NaN  2013.0        NaN   NaN   NaN    NaN  ...        NaN   \n",
      "15           NaN  2013.0        NaN   NaN   NaN    NaN  ...        NaN   \n",
      "16           NaN  2013.0        NaN   NaN   NaN    NaN  ...        NaN   \n",
      "17           NaN  2013.0        NaN   NaN   NaN    NaN  ...        NaN   \n",
      "18           NaN  2013.0        NaN   NaN   NaN    NaN  ...        NaN   \n",
      "19           NaN  2013.0        NaN   NaN   NaN    NaN  ...        NaN   \n",
      "20           NaN  2013.0        NaN   NaN   NaN    NaN  ...        NaN   \n",
      "21           NaN  2013.0        NaN   NaN   NaN    NaN  ...        NaN   \n",
      "22           NaN  2013.0        NaN   NaN   NaN    NaN  ...        NaN   \n",
      "23           NaN  2013.0        NaN   NaN   NaN    NaN  ...        NaN   \n",
      "24           NaN  2013.0        NaN   NaN   NaN    NaN  ...        NaN   \n",
      "25           NaN  2013.0        NaN   NaN   NaN    NaN  ...        NaN   \n",
      "26           NaN  2013.0        NaN   NaN   NaN    NaN  ...        NaN   \n",
      "27           NaN  2013.0        NaN   NaN   NaN    NaN  ...        NaN   \n",
      "28           NaN  2013.0        NaN   NaN   NaN    NaN  ...        NaN   \n",
      "29           NaN  2013.0        NaN   NaN   NaN    NaN  ...        NaN   \n",
      "..           ...     ...        ...   ...   ...    ...  ...        ...   \n",
      "861          NaN     NaN       True  21.0    no  False  ...    11.5000   \n",
      "862          NaN     NaN      False  48.0   yes   True  ...    25.9292   \n",
      "863          NaN     NaN      False   NaN    no  False  ...    69.5500   \n",
      "864          NaN     NaN       True  24.0    no   True  ...    13.0000   \n",
      "865          NaN     NaN      False  42.0   yes   True  ...    13.0000   \n",
      "866          NaN     NaN      False  27.0   yes  False  ...    13.8583   \n",
      "867          NaN     NaN       True  31.0    no   True  ...    50.4958   \n",
      "868          NaN     NaN       True   NaN    no   True  ...     9.5000   \n",
      "869          NaN     NaN      False   4.0   yes  False  ...    11.1333   \n",
      "870          NaN     NaN       True  26.0    no   True  ...     7.8958   \n",
      "871          NaN     NaN      False  47.0   yes  False  ...    52.5542   \n",
      "872          NaN     NaN       True  33.0    no   True  ...     5.0000   \n",
      "873          NaN     NaN       True  47.0    no   True  ...     9.0000   \n",
      "874          NaN     NaN      False  28.0   yes  False  ...    24.0000   \n",
      "875          NaN     NaN      False  15.0   yes   True  ...     7.2250   \n",
      "876          NaN     NaN       True  20.0    no   True  ...     9.8458   \n",
      "877          NaN     NaN       True  19.0    no   True  ...     7.8958   \n",
      "878          NaN     NaN       True   NaN    no   True  ...     7.8958   \n",
      "879          NaN     NaN      False  56.0   yes  False  ...    83.1583   \n",
      "880          NaN     NaN      False  25.0   yes  False  ...    26.0000   \n",
      "881          NaN     NaN       True  33.0    no   True  ...     7.8958   \n",
      "882          NaN     NaN      False  22.0    no   True  ...    10.5167   \n",
      "883          NaN     NaN       True  28.0    no   True  ...    10.5000   \n",
      "884          NaN     NaN       True  25.0    no   True  ...     7.0500   \n",
      "885          NaN     NaN      False  39.0    no  False  ...    29.1250   \n",
      "886          NaN     NaN       True  27.0    no   True  ...    13.0000   \n",
      "887          NaN     NaN      False  19.0   yes   True  ...    30.0000   \n",
      "888          NaN     NaN      False   NaN    no  False  ...    23.4500   \n",
      "889          NaN     NaN       True  26.0   yes   True  ...    30.0000   \n",
      "890          NaN     NaN       True  32.0    no   True  ...     7.7500   \n",
      "\n",
      "    first_name hire_date last_name  parch  pclass     sex sibsp survived  \\\n",
      "0          NaN       NaT       NaN    NaN     NaN     NaN   NaN      NaN   \n",
      "1          NaN       NaT       NaN    NaN     NaN     NaN   NaN      NaN   \n",
      "2          NaN       NaT       NaN    NaN     NaN     NaN   NaN      NaN   \n",
      "3          NaN       NaT       NaN    NaN     NaN     NaN   NaN      NaN   \n",
      "4          NaN       NaT       NaN    NaN     NaN     NaN   NaN      NaN   \n",
      "5          NaN       NaT       NaN    NaN     NaN     NaN   NaN      NaN   \n",
      "6          NaN       NaT       NaN    NaN     NaN     NaN   NaN      NaN   \n",
      "7          NaN       NaT       NaN    NaN     NaN     NaN   NaN      NaN   \n",
      "8          NaN       NaT       NaN    NaN     NaN     NaN   NaN      NaN   \n",
      "9          NaN       NaT       NaN    NaN     NaN     NaN   NaN      NaN   \n",
      "10         NaN       NaT       NaN    NaN     NaN     NaN   NaN      NaN   \n",
      "11         NaN       NaT       NaN    NaN     NaN     NaN   NaN      NaN   \n",
      "12         NaN       NaT       NaN    NaN     NaN     NaN   NaN      NaN   \n",
      "13         NaN       NaT       NaN    NaN     NaN     NaN   NaN      NaN   \n",
      "14         NaN       NaT       NaN    NaN     NaN     NaN   NaN      NaN   \n",
      "15         NaN       NaT       NaN    NaN     NaN     NaN   NaN      NaN   \n",
      "16         NaN       NaT       NaN    NaN     NaN     NaN   NaN      NaN   \n",
      "17         NaN       NaT       NaN    NaN     NaN     NaN   NaN      NaN   \n",
      "18         NaN       NaT       NaN    NaN     NaN     NaN   NaN      NaN   \n",
      "19         NaN       NaT       NaN    NaN     NaN     NaN   NaN      NaN   \n",
      "20         NaN       NaT       NaN    NaN     NaN     NaN   NaN      NaN   \n",
      "21         NaN       NaT       NaN    NaN     NaN     NaN   NaN      NaN   \n",
      "22         NaN       NaT       NaN    NaN     NaN     NaN   NaN      NaN   \n",
      "23         NaN       NaT       NaN    NaN     NaN     NaN   NaN      NaN   \n",
      "24         NaN       NaT       NaN    NaN     NaN     NaN   NaN      NaN   \n",
      "25         NaN       NaT       NaN    NaN     NaN     NaN   NaN      NaN   \n",
      "26         NaN       NaT       NaN    NaN     NaN     NaN   NaN      NaN   \n",
      "27         NaN       NaT       NaN    NaN     NaN     NaN   NaN      NaN   \n",
      "28         NaN       NaT       NaN    NaN     NaN     NaN   NaN      NaN   \n",
      "29         NaN       NaT       NaN    NaN     NaN     NaN   NaN      NaN   \n",
      "..         ...       ...       ...    ...     ...     ...   ...      ...   \n",
      "861        NaN       NaT       NaN    0.0     2.0    male   1.0      0.0   \n",
      "862        NaN       NaT       NaN    0.0     1.0  female   0.0      1.0   \n",
      "863        NaN       NaT       NaN    2.0     3.0  female   8.0      0.0   \n",
      "864        NaN       NaT       NaN    0.0     2.0    male   0.0      0.0   \n",
      "865        NaN       NaT       NaN    0.0     2.0  female   0.0      1.0   \n",
      "866        NaN       NaT       NaN    0.0     2.0  female   1.0      1.0   \n",
      "867        NaN       NaT       NaN    0.0     1.0    male   0.0      0.0   \n",
      "868        NaN       NaT       NaN    0.0     3.0    male   0.0      0.0   \n",
      "869        NaN       NaT       NaN    1.0     3.0    male   1.0      1.0   \n",
      "870        NaN       NaT       NaN    0.0     3.0    male   0.0      0.0   \n",
      "871        NaN       NaT       NaN    1.0     1.0  female   1.0      1.0   \n",
      "872        NaN       NaT       NaN    0.0     1.0    male   0.0      0.0   \n",
      "873        NaN       NaT       NaN    0.0     3.0    male   0.0      0.0   \n",
      "874        NaN       NaT       NaN    0.0     2.0  female   1.0      1.0   \n",
      "875        NaN       NaT       NaN    0.0     3.0  female   0.0      1.0   \n",
      "876        NaN       NaT       NaN    0.0     3.0    male   0.0      0.0   \n",
      "877        NaN       NaT       NaN    0.0     3.0    male   0.0      0.0   \n",
      "878        NaN       NaT       NaN    0.0     3.0    male   0.0      0.0   \n",
      "879        NaN       NaT       NaN    1.0     1.0  female   0.0      1.0   \n",
      "880        NaN       NaT       NaN    1.0     2.0  female   0.0      1.0   \n",
      "881        NaN       NaT       NaN    0.0     3.0    male   0.0      0.0   \n",
      "882        NaN       NaT       NaN    0.0     3.0  female   0.0      0.0   \n",
      "883        NaN       NaT       NaN    0.0     2.0    male   0.0      0.0   \n",
      "884        NaN       NaT       NaN    0.0     3.0    male   0.0      0.0   \n",
      "885        NaN       NaT       NaN    5.0     3.0  female   0.0      0.0   \n",
      "886        NaN       NaT       NaN    0.0     2.0    male   0.0      0.0   \n",
      "887        NaN       NaT       NaN    0.0     1.0  female   0.0      1.0   \n",
      "888        NaN       NaT       NaN    2.0     3.0  female   1.0      0.0   \n",
      "889        NaN       NaT       NaN    0.0     1.0    male   0.0      1.0   \n",
      "890        NaN       NaT       NaN    0.0     3.0    male   0.0      0.0   \n",
      "\n",
      "       who  \n",
      "0      NaN  \n",
      "1      NaN  \n",
      "2      NaN  \n",
      "3      NaN  \n",
      "4      NaN  \n",
      "5      NaN  \n",
      "6      NaN  \n",
      "7      NaN  \n",
      "8      NaN  \n",
      "9      NaN  \n",
      "10     NaN  \n",
      "11     NaN  \n",
      "12     NaN  \n",
      "13     NaN  \n",
      "14     NaN  \n",
      "15     NaN  \n",
      "16     NaN  \n",
      "17     NaN  \n",
      "18     NaN  \n",
      "19     NaN  \n",
      "20     NaN  \n",
      "21     NaN  \n",
      "22     NaN  \n",
      "23     NaN  \n",
      "24     NaN  \n",
      "25     NaN  \n",
      "26     NaN  \n",
      "27     NaN  \n",
      "28     NaN  \n",
      "29     NaN  \n",
      "..     ...  \n",
      "861    man  \n",
      "862  woman  \n",
      "863  woman  \n",
      "864    man  \n",
      "865  woman  \n",
      "866  woman  \n",
      "867    man  \n",
      "868    man  \n",
      "869  child  \n",
      "870    man  \n",
      "871  woman  \n",
      "872    man  \n",
      "873    man  \n",
      "874  woman  \n",
      "875  child  \n",
      "876    man  \n",
      "877    man  \n",
      "878    man  \n",
      "879  woman  \n",
      "880  woman  \n",
      "881    man  \n",
      "882  woman  \n",
      "883    man  \n",
      "884    man  \n",
      "885  woman  \n",
      "886    man  \n",
      "887  woman  \n",
      "888  woman  \n",
      "889    man  \n",
      "890    man  \n",
      "\n",
      "[961 rows x 25 columns]\n"
     ]
    }
   ],
   "source": [
    "import pandas as pd\n",
    "import numpy as np\n",
    "p1=pd.read_excel(r\"C:\\Users\\ADMIN\\Downloads\\coalpublic2013.xlsx\")\n",
    "p2=pd.read_excel(r\"C:\\Users\\ADMIN\\Downloads\\employee.xlsx\")\n",
    "p3=pd.read_csv(r\"C:\\Users\\ADMIN\\Downloads\\titanic.csv\")\n",
    "dat=pd.concat([p1,p2,p3])\n",
    "print(dat)"
   ]
  },
  {
   "cell_type": "markdown",
   "metadata": {},
   "source": [
    "Q 22. Write a pandas program to import three datasheets from a given\n",
    "excel data (employee.xlsx ) into a single data frame and export the\n",
    "result into new Excel file.\n",
    " \n",
    "Note: Structure of three datasheets are same."
   ]
  },
  {
   "cell_type": "code",
   "execution_count": 9,
   "metadata": {},
   "outputs": [],
   "source": [
    "dat.to_excel(\"out.xlsx\")"
   ]
  },
  {
   "cell_type": "markdown",
   "metadata": {},
   "source": [
    "Q23. Write a pandas program to create the Pivot table with multiple\n",
    "indexes from the data set of the titanic.csv."
   ]
  },
  {
   "cell_type": "code",
   "execution_count": 12,
   "metadata": {},
   "outputs": [
    {
     "name": "stdout",
     "output_type": "stream",
     "text": [
      "              Unnamed: 15  adult_male  alone      fare  parch  pclass  sibsp  \\\n",
      "sex    age                                                                     \n",
      "female 0.75           0.0         0.0    0.0   38.5166      2       6      4   \n",
      "       1.00           0.0         0.0    0.0   26.8750      3       6      1   \n",
      "       2.00           0.0         0.0    0.0  259.4750      9      15      9   \n",
      "       3.00           0.0         0.0    0.0   62.6542      3       5      4   \n",
      "       4.00           0.0         0.0    0.0  114.1417      6      13      4   \n",
      "       5.00           0.0         0.0    1.0   90.8708      5      11      7   \n",
      "       6.00           0.0         0.0    0.0   64.2750      3       5      4   \n",
      "       7.00           0.0         0.0    0.0   26.2500      2       2      0   \n",
      "       8.00           0.0         0.0    0.0   47.3250      3       5      3   \n",
      "       9.00           0.0         0.0    0.0  108.7958      7      12     10   \n",
      "       10.00          0.0         0.0    0.0   24.1500      2       3      0   \n",
      "       11.00          0.0         0.0    0.0   31.2750      2       3      4   \n",
      "       13.00          0.0         0.0    1.0   26.7292      1       5      0   \n",
      "       14.00          0.0         0.0    1.0  169.1667      2       9      3   \n",
      "       14.50          0.0         0.0    0.0   14.4542      0       3      1   \n",
      "       15.00          0.0         0.0    2.0  241.0459      1      10      1   \n",
      "       16.00          0.0         0.0    3.0  246.2625      4      12      5   \n",
      "       17.00          0.0         0.0    3.0  210.7833      2      12      6   \n",
      "       18.00          0.0         0.0    4.0  697.0167      9      31      6   \n",
      "       19.00          0.0         0.0    3.0  215.0959      2      13      3   \n",
      "       20.00          0.0         0.0    1.0   18.4875      0       6      1   \n",
      "       21.00          0.0         0.0    4.0  410.4333      4      16      5   \n",
      "       22.00          0.0         0.0    7.0  444.1084      6      26      3   \n",
      "       23.00          0.0         0.0    3.0  405.5417      2      10      4   \n",
      "       24.00          0.0         0.0    7.0  772.1708     15      31     10   \n",
      "       25.00          0.0         0.0    1.0  223.2500      4      11      3   \n",
      "       26.00          0.0         0.0    3.0  136.7292      1      12      2   \n",
      "       27.00          0.0         0.0    2.0   76.8916      3      15      2   \n",
      "       28.00          0.0         0.0    4.0  110.9458      1      16      3   \n",
      "       29.00          0.0         0.0    2.0  320.6208      7      16      3   \n",
      "...                   ...         ...    ...       ...    ...     ...    ...   \n",
      "male   42.00          0.0        10.0    6.0  216.1084      1      21      3   \n",
      "       43.00          0.0         3.0    2.0   40.7500      1       8      1   \n",
      "       44.00          0.0         6.0    3.0  156.1250      1      15      3   \n",
      "       45.00          0.0         6.0    5.0  187.1000      0      10      1   \n",
      "       45.50          0.0         2.0    2.0   35.7250      0       4      0   \n",
      "       46.00          0.0         3.0    2.0  166.3750      0       4      1   \n",
      "       47.00          0.0         7.0    7.0  181.3583      0      12      0   \n",
      "       48.00          0.0         5.0    3.0  176.1334      0       8      2   \n",
      "       49.00          0.0         4.0    1.0  256.9167      1       6      3   \n",
      "       50.00          0.0         5.0    2.0  317.0250      0       8      4   \n",
      "       51.00          0.0         6.0    5.0  123.3084      1      13      0   \n",
      "       52.00          0.0         4.0    3.0  136.6500      1       6      1   \n",
      "       54.00          0.0         5.0    3.0  195.1500      1       8      1   \n",
      "       55.00          0.0         1.0    1.0   30.5000      0       1      0   \n",
      "       55.50          0.0         1.0    1.0    8.0500      0       3      0   \n",
      "       56.00          0.0         3.0    3.0   92.7458      0       3      0   \n",
      "       57.00          0.0         1.0    1.0   12.3500      0       2      0   \n",
      "       58.00          0.0         2.0    1.0  142.9750      2       2      0   \n",
      "       59.00          0.0         2.0    2.0   20.7500      0       5      0   \n",
      "       60.00          0.0         3.0    1.0  144.7500      2       4      2   \n",
      "       61.00          0.0         3.0    3.0   72.0583      0       5      0   \n",
      "       62.00          0.0         3.0    3.0   63.6000      0       4      0   \n",
      "       64.00          0.0         2.0    1.0  289.0000      4       2      1   \n",
      "       65.00          0.0         3.0    2.0   96.2792      1       5      0   \n",
      "       66.00          0.0         1.0    1.0   10.5000      0       2      0   \n",
      "       70.00          0.0         2.0    1.0   81.5000      1       3      1   \n",
      "       70.50          0.0         1.0    1.0    7.7500      0       3      0   \n",
      "       71.00          0.0         2.0    2.0   84.1584      0       2      0   \n",
      "       74.00          0.0         1.0    1.0    7.7750      0       3      0   \n",
      "       80.00          0.0         1.0    1.0   30.0000      0       1      0   \n",
      "\n",
      "              survived  \n",
      "sex    age              \n",
      "female 0.75          2  \n",
      "       1.00          2  \n",
      "       2.00          2  \n",
      "       3.00          1  \n",
      "       4.00          5  \n",
      "       5.00          4  \n",
      "       6.00          1  \n",
      "       7.00          1  \n",
      "       8.00          1  \n",
      "       9.00          0  \n",
      "       10.00         0  \n",
      "       11.00         0  \n",
      "       13.00         2  \n",
      "       14.00         3  \n",
      "       14.50         0  \n",
      "       15.00         4  \n",
      "       16.00         5  \n",
      "       17.00         5  \n",
      "       18.00         8  \n",
      "       19.00         7  \n",
      "       20.00         0  \n",
      "       21.00         4  \n",
      "       22.00        10  \n",
      "       23.00         4  \n",
      "       24.00        14  \n",
      "       25.00         2  \n",
      "       26.00         3  \n",
      "       27.00         5  \n",
      "       28.00         5  \n",
      "       29.00         5  \n",
      "...                ...  \n",
      "male   42.00         3  \n",
      "       43.00         0  \n",
      "       44.00         1  \n",
      "       45.00         2  \n",
      "       45.50         0  \n",
      "       46.00         0  \n",
      "       47.00         0  \n",
      "       48.00         3  \n",
      "       49.00         2  \n",
      "       50.00         1  \n",
      "       51.00         1  \n",
      "       52.00         1  \n",
      "       54.00         0  \n",
      "       55.00         0  \n",
      "       55.50         0  \n",
      "       56.00         1  \n",
      "       57.00         0  \n",
      "       58.00         0  \n",
      "       59.00         0  \n",
      "       60.00         1  \n",
      "       61.00         0  \n",
      "       62.00         1  \n",
      "       64.00         0  \n",
      "       65.00         0  \n",
      "       66.00         0  \n",
      "       70.00         0  \n",
      "       70.50         0  \n",
      "       71.00         0  \n",
      "       74.00         0  \n",
      "       80.00         1  \n",
      "\n",
      "[145 rows x 8 columns]\n"
     ]
    }
   ],
   "source": [
    "result = p3.pivot_table(p3, index = [\"sex\",\"age\"], aggfunc=np.sum)\n",
    "print(result)"
   ]
  },
  {
   "cell_type": "markdown",
   "metadata": {},
   "source": [
    "Q24. Write a Pandas program to create the Pivot table and find survival\n",
    "rate by gender?"
   ]
  },
  {
   "cell_type": "code",
   "execution_count": 13,
   "metadata": {},
   "outputs": [
    {
     "name": "stdout",
     "output_type": "stream",
     "text": [
      "class               First    Second     Third\n",
      "sex    age                                   \n",
      "female (0, 20]   0.928571  1.000000  0.510638\n",
      "       (20, 55]  0.968750  0.912281  0.407407\n",
      "male   (0, 20]   0.571429  0.526316  0.197368\n",
      "       (20, 55]  0.440000  0.054054  0.134503\n"
     ]
    }
   ],
   "source": [
    "age = pd.cut(p3['age'], [0, 20, 55])\n",
    "result = p3.pivot_table('survived', index=['sex', age], columns='class')\n",
    "print(result)"
   ]
  },
  {
   "cell_type": "markdown",
   "metadata": {},
   "source": [
    "Q25. Write a pandas program to make partition each of the passengers\n",
    "into 4 categories based on their age.\n",
    " \n",
    "Note: Age categories- (0, 10), (10, 30), (30, 60), (60, 80)"
   ]
  },
  {
   "cell_type": "code",
   "execution_count": 14,
   "metadata": {},
   "outputs": [
    {
     "name": "stdout",
     "output_type": "stream",
     "text": [
      "class               First    Second     Third\n",
      "sex    age                                   \n",
      "female (0, 10]   0.000000  1.000000  0.500000\n",
      "       (10, 30]  0.970588  0.916667  0.508772\n",
      "       (30, 60]  0.979167  0.900000  0.272727\n",
      "       (60, 80]  1.000000       NaN  1.000000\n",
      "male   (0, 10]   1.000000  1.000000  0.363636\n",
      "       (10, 30]  0.458333  0.023256  0.139073\n",
      "       (30, 60]  0.412698  0.090909  0.118421\n",
      "       (60, 80]  0.083333  0.333333  0.000000\n"
     ]
    }
   ],
   "source": [
    "age = pd.cut(p3['age'], [0, 10,30, 60,80])\n",
    "result = p3.pivot_table('survived', index=['sex', age], columns='class')\n",
    "print(result)"
   ]
  },
  {
   "cell_type": "markdown",
   "metadata": {},
   "source": [
    "Q26. Write a pandas program to create the Pivot table and find survival\n",
    "rate by the gender, age of the different categories of various\n",
    "classes."
   ]
  },
  {
   "cell_type": "code",
   "execution_count": 15,
   "metadata": {},
   "outputs": [
    {
     "name": "stdout",
     "output_type": "stream",
     "text": [
      "class               First    Second     Third\n",
      "sex    age                                   \n",
      "female (0, 20]   0.928571  1.000000  0.510638\n",
      "       (20, 55]  0.968750  0.912281  0.407407\n",
      "male   (0, 20]   0.571429  0.526316  0.197368\n",
      "       (20, 55]  0.440000  0.054054  0.134503\n"
     ]
    }
   ],
   "source": [
    "age = pd.cut(p3['age'], [0, 20, 55])\n",
    "result = p3.pivot_table('survived', index=['sex', age], columns='class')\n",
    "print(result)"
   ]
  },
  {
   "cell_type": "markdown",
   "metadata": {},
   "source": [
    "Q27. Write a pandas program to create the Pivot table and calculate\n",
    "number of women and men were in a particular cabin class.\n"
   ]
  },
  {
   "cell_type": "code",
   "execution_count": 16,
   "metadata": {},
   "outputs": [
    {
     "data": {
      "text/html": [
       "<div>\n",
       "<style scoped>\n",
       "    .dataframe tbody tr th:only-of-type {\n",
       "        vertical-align: middle;\n",
       "    }\n",
       "\n",
       "    .dataframe tbody tr th {\n",
       "        vertical-align: top;\n",
       "    }\n",
       "\n",
       "    .dataframe thead tr th {\n",
       "        text-align: left;\n",
       "    }\n",
       "\n",
       "    .dataframe thead tr:last-of-type th {\n",
       "        text-align: right;\n",
       "    }\n",
       "</style>\n",
       "<table border=\"1\" class=\"dataframe\">\n",
       "  <thead>\n",
       "    <tr>\n",
       "      <th></th>\n",
       "      <th colspan=\"3\" halign=\"left\">Unnamed: 15</th>\n",
       "      <th colspan=\"3\" halign=\"left\">adult_male</th>\n",
       "      <th colspan=\"3\" halign=\"left\">age</th>\n",
       "      <th>alive</th>\n",
       "      <th>...</th>\n",
       "      <th>parch</th>\n",
       "      <th colspan=\"3\" halign=\"left\">sibsp</th>\n",
       "      <th colspan=\"3\" halign=\"left\">survived</th>\n",
       "      <th colspan=\"3\" halign=\"left\">who</th>\n",
       "    </tr>\n",
       "    <tr>\n",
       "      <th>pclass</th>\n",
       "      <th>1</th>\n",
       "      <th>2</th>\n",
       "      <th>3</th>\n",
       "      <th>1</th>\n",
       "      <th>2</th>\n",
       "      <th>3</th>\n",
       "      <th>1</th>\n",
       "      <th>2</th>\n",
       "      <th>3</th>\n",
       "      <th>1</th>\n",
       "      <th>...</th>\n",
       "      <th>3</th>\n",
       "      <th>1</th>\n",
       "      <th>2</th>\n",
       "      <th>3</th>\n",
       "      <th>1</th>\n",
       "      <th>2</th>\n",
       "      <th>3</th>\n",
       "      <th>1</th>\n",
       "      <th>2</th>\n",
       "      <th>3</th>\n",
       "    </tr>\n",
       "    <tr>\n",
       "      <th>sex</th>\n",
       "      <th></th>\n",
       "      <th></th>\n",
       "      <th></th>\n",
       "      <th></th>\n",
       "      <th></th>\n",
       "      <th></th>\n",
       "      <th></th>\n",
       "      <th></th>\n",
       "      <th></th>\n",
       "      <th></th>\n",
       "      <th></th>\n",
       "      <th></th>\n",
       "      <th></th>\n",
       "      <th></th>\n",
       "      <th></th>\n",
       "      <th></th>\n",
       "      <th></th>\n",
       "      <th></th>\n",
       "      <th></th>\n",
       "      <th></th>\n",
       "      <th></th>\n",
       "    </tr>\n",
       "  </thead>\n",
       "  <tbody>\n",
       "    <tr>\n",
       "      <th>female</th>\n",
       "      <td>0</td>\n",
       "      <td>0</td>\n",
       "      <td>0</td>\n",
       "      <td>94</td>\n",
       "      <td>76</td>\n",
       "      <td>144</td>\n",
       "      <td>85</td>\n",
       "      <td>74</td>\n",
       "      <td>102</td>\n",
       "      <td>94</td>\n",
       "      <td>...</td>\n",
       "      <td>144</td>\n",
       "      <td>94</td>\n",
       "      <td>76</td>\n",
       "      <td>144</td>\n",
       "      <td>94</td>\n",
       "      <td>76</td>\n",
       "      <td>144</td>\n",
       "      <td>94</td>\n",
       "      <td>76</td>\n",
       "      <td>144</td>\n",
       "    </tr>\n",
       "    <tr>\n",
       "      <th>male</th>\n",
       "      <td>0</td>\n",
       "      <td>0</td>\n",
       "      <td>0</td>\n",
       "      <td>122</td>\n",
       "      <td>108</td>\n",
       "      <td>347</td>\n",
       "      <td>101</td>\n",
       "      <td>99</td>\n",
       "      <td>253</td>\n",
       "      <td>122</td>\n",
       "      <td>...</td>\n",
       "      <td>347</td>\n",
       "      <td>122</td>\n",
       "      <td>108</td>\n",
       "      <td>347</td>\n",
       "      <td>122</td>\n",
       "      <td>108</td>\n",
       "      <td>347</td>\n",
       "      <td>122</td>\n",
       "      <td>108</td>\n",
       "      <td>347</td>\n",
       "    </tr>\n",
       "  </tbody>\n",
       "</table>\n",
       "<p>2 rows × 42 columns</p>\n",
       "</div>"
      ],
      "text/plain": [
       "       Unnamed: 15       adult_male            age          alive ...  parch  \\\n",
       "pclass           1  2  3          1    2    3    1   2    3     1 ...      3   \n",
       "sex                                                               ...          \n",
       "female           0  0  0         94   76  144   85  74  102    94 ...    144   \n",
       "male             0  0  0        122  108  347  101  99  253   122 ...    347   \n",
       "\n",
       "       sibsp           survived            who            \n",
       "pclass     1    2    3        1    2    3    1    2    3  \n",
       "sex                                                       \n",
       "female    94   76  144       94   76  144   94   76  144  \n",
       "male     122  108  347      122  108  347  122  108  347  \n",
       "\n",
       "[2 rows x 42 columns]"
      ]
     },
     "execution_count": 16,
     "metadata": {},
     "output_type": "execute_result"
    }
   ],
   "source": [
    "res = p3.pivot_table(index=['sex'], columns=['pclass'], aggfunc='count')\n",
    "res"
   ]
  },
  {
   "cell_type": "markdown",
   "metadata": {},
   "source": [
    "Q28. Write a pandas program to create the Pivot table and separate\n",
    "the gender according to whether they travelled alone or not to get\n",
    "the probability of survival\n"
   ]
  },
  {
   "cell_type": "code",
   "execution_count": 17,
   "metadata": {},
   "outputs": [
    {
     "name": "stdout",
     "output_type": "stream",
     "text": [
      "class            First    Second     Third\n",
      "sex    alone                              \n",
      "female False  0.966667  0.931818  0.416667\n",
      "       True   0.970588  0.906250  0.616667\n",
      "male   False  0.425532  0.277778  0.180723\n",
      "       True   0.333333  0.097222  0.121212\n"
     ]
    }
   ],
   "source": [
    "result = p3.pivot_table( 'survived' , [ 'sex' , 'alone' ] , 'class' )\n",
    "print(result)"
   ]
  },
  {
   "cell_type": "markdown",
   "metadata": {},
   "source": [
    "Q29. Write a pandas program to create the Pivot table and find the\n",
    "probability of survival by class, gender, solo boarding, and the port\n",
    "of embarkation."
   ]
  },
  {
   "cell_type": "code",
   "execution_count": 18,
   "metadata": {},
   "outputs": [
    {
     "name": "stdout",
     "output_type": "stream",
     "text": [
      "embark_town  Cherbourg                     Queenstown                   \\\n",
      "class            First    Second     Third      First Second     Third   \n",
      "sex    alone                                                             \n",
      "female False  1.000000  1.000000  0.611111        1.0    NaN  0.625000   \n",
      "       True   0.944444  1.000000  0.800000        NaN    1.0  0.760000   \n",
      "male   False  0.473684  0.166667  0.500000        0.0    NaN  0.100000   \n",
      "       True   0.347826  0.250000  0.151515        NaN    0.0  0.068966   \n",
      "\n",
      "embark_town  Southampton                      \n",
      "class              First    Second     Third  \n",
      "sex    alone                                  \n",
      "female False    0.941176  0.923077  0.327586  \n",
      "       True     1.000000  0.892857  0.466667  \n",
      "male   False    0.407407  0.300000  0.142857  \n",
      "       True     0.326923  0.089552  0.123762  \n"
     ]
    }
   ],
   "source": [
    "result = p3.pivot_table('survived', ['sex' , 'alone' ], [ 'embark_town', 'class' ])\n",
    "print(result)"
   ]
  },
  {
   "cell_type": "markdown",
   "metadata": {},
   "source": [
    "Q30. Write a pandas program to get current date, oldest date and\n",
    "number of days between Current date and the oldest date of Ufo\n",
    "dataset."
   ]
  },
  {
   "cell_type": "code",
   "execution_count": null,
   "metadata": {},
   "outputs": [],
   "source": []
  },
  {
   "cell_type": "markdown",
   "metadata": {},
   "source": [
    "Q31. Write a pandas program to get all sighting days of the\n",
    "unidentified flying object (ufo) between 1950-10-10 and 1960-10-\n",
    "10."
   ]
  },
  {
   "cell_type": "code",
   "execution_count": null,
   "metadata": {},
   "outputs": [],
   "source": []
  },
  {
   "cell_type": "markdown",
   "metadata": {},
   "source": [
    "Q32. Write a Pandas program to extract the year, month, day, hour,\n",
    "minute, second, and weekday from unidentified flying object (UFO)\n",
    "reporting date."
   ]
  },
  {
   "cell_type": "code",
   "execution_count": null,
   "metadata": {},
   "outputs": [],
   "source": []
  },
  {
   "cell_type": "markdown",
   "metadata": {},
   "source": [
    "Q33. Write a pandas program to count year-country wise frequency of\n",
    "reporting dates of the unidentified flying object(UFO).\n"
   ]
  },
  {
   "cell_type": "code",
   "execution_count": null,
   "metadata": {},
   "outputs": [],
   "source": []
  },
  {
   "cell_type": "markdown",
   "metadata": {},
   "source": [
    "Q34. Write a pandas program to get the difference (in days) between\n",
    "documented date and reporting date of unidentified flying object\n",
    "(UFO)."
   ]
  },
  {
   "cell_type": "code",
   "execution_count": null,
   "metadata": {},
   "outputs": [],
   "source": []
  },
  {
   "cell_type": "markdown",
   "metadata": {},
   "source": [
    "Q35. Write a pandas program to generate sequences of fixedfrequency dates and time spans."
   ]
  },
  {
   "cell_type": "code",
   "execution_count": null,
   "metadata": {},
   "outputs": [],
   "source": []
  },
  {
   "cell_type": "markdown",
   "metadata": {},
   "source": [
    "Q36. Write a pandas program to manipulate and convert date times\n",
    "with timezone information."
   ]
  },
  {
   "cell_type": "code",
   "execution_count": null,
   "metadata": {},
   "outputs": [],
   "source": []
  },
  {
   "cell_type": "markdown",
   "metadata": {},
   "source": [
    "Q37. Write a pandas program to create the graphical analysis of UFO\n",
    "(unidentified flying object) Sightings year."
   ]
  },
  {
   "cell_type": "code",
   "execution_count": null,
   "metadata": {},
   "outputs": [],
   "source": []
  },
  {
   "cell_type": "markdown",
   "metadata": {},
   "source": [
    "Q38. Write a pandas program to create a comparison of the top 10\n",
    "years in which the (UFO) was sighted VS each Month."
   ]
  },
  {
   "cell_type": "code",
   "execution_count": null,
   "metadata": {},
   "outputs": [],
   "source": []
  },
  {
   "cell_type": "markdown",
   "metadata": {},
   "source": [
    "Q39. Write a pandas program to create a heatmap (rectangular data as\n",
    "a colour-encoded matrix) for comparison of top 10 years in\n",
    "which (UFO ) was sighted VS each Month."
   ]
  },
  {
   "cell_type": "code",
   "execution_count": null,
   "metadata": {},
   "outputs": [],
   "source": []
  },
  {
   "cell_type": "markdown",
   "metadata": {},
   "source": [
    "Q40. Write a pandas program to create a Timewheel of Hour VS Year\n",
    "comparison of the top 10 years in which the (UFO) was sighted"
   ]
  },
  {
   "cell_type": "code",
   "execution_count": null,
   "metadata": {},
   "outputs": [],
   "source": []
  },
  {
   "cell_type": "markdown",
   "metadata": {},
   "source": [
    "## Great Job!"
   ]
  }
 ],
 "metadata": {
  "kernelspec": {
   "display_name": "Python 3",
   "language": "python",
   "name": "python3"
  },
  "language_info": {
   "codemirror_mode": {
    "name": "ipython",
    "version": 3
   },
   "file_extension": ".py",
   "mimetype": "text/x-python",
   "name": "python",
   "nbconvert_exporter": "python",
   "pygments_lexer": "ipython3",
   "version": "3.6.4"
  }
 },
 "nbformat": 4,
 "nbformat_minor": 2
}
